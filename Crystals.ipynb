{
  "nbformat": 4,
  "nbformat_minor": 0,
  "metadata": {
    "colab": {
      "name": "Crystals.ipynb",
      "version": "0.3.2",
      "provenance": [],
      "collapsed_sections": [],
      "include_colab_link": true
    },
    "kernelspec": {
      "name": "python3",
      "display_name": "Python 3"
    }
  },
  "cells": [
    {
      "cell_type": "markdown",
      "metadata": {
        "id": "view-in-github",
        "colab_type": "text"
      },
      "source": [
        "<a href=\"https://colab.research.google.com/github/camachodc/Crystals/blob/master/Crystals.ipynb\" target=\"_parent\"><img src=\"https://colab.research.google.com/assets/colab-badge.svg\" alt=\"Open In Colab\"/></a>"
      ]
    },
    {
      "cell_type": "markdown",
      "metadata": {
        "id": "KF6PpgS8nCt8",
        "colab_type": "text"
      },
      "source": [
        "         **Gettting documents**\n",
        "\n",
        "---\n",
        "\n",
        "\n",
        "\n",
        "---\n",
        "\n",
        "\n",
        "\n",
        "---\n",
        "\n",
        "\n",
        "\n",
        "---\n",
        "\n",
        "\n",
        "\n",
        "---\n",
        "\n"
      ]
    },
    {
      "cell_type": "code",
      "metadata": {
        "id": "7wFWmTNpPhiq",
        "colab_type": "code",
        "colab": {}
      },
      "source": [
        "! git clone https://github.com/camachodc/Crystals.git\n",
        "  \n",
        "  \n",
        "\n",
        "\n"
      ],
      "execution_count": 0,
      "outputs": []
    },
    {
      "cell_type": "code",
      "metadata": {
        "id": "baDfqn6cZKic",
        "colab_type": "code",
        "colab": {}
      },
      "source": [
        "% cd Crystals\n",
        "%ls\n",
        "\n"
      ],
      "execution_count": 0,
      "outputs": []
    },
    {
      "cell_type": "markdown",
      "metadata": {
        "id": "qsjm0kBBnYF1",
        "colab_type": "text"
      },
      "source": [
        "**Import libraries**\n",
        "\n",
        "\n",
        "---\n",
        "\n",
        "\n",
        "\n",
        "---\n",
        "\n",
        "\n",
        "\n",
        "---\n",
        "\n",
        "\n",
        "\n",
        "---\n",
        "\n",
        "\n",
        "\n",
        "---\n",
        "\n"
      ]
    },
    {
      "cell_type": "code",
      "metadata": {
        "id": "qQ-tn4ELZS6E",
        "colab_type": "code",
        "colab": {}
      },
      "source": [
        "import os\n",
        "import pandas as pd\n",
        "import pickle\n",
        "import numpy as py\n",
        "\n"
      ],
      "execution_count": 0,
      "outputs": []
    },
    {
      "cell_type": "markdown",
      "metadata": {
        "id": "atg5nQlwndJe",
        "colab_type": "text"
      },
      "source": [
        "Set up the dataframe\n",
        "\n",
        "---\n",
        "\n",
        "\n",
        "\n",
        "---\n",
        "\n",
        "\n",
        "\n",
        "---\n",
        "\n",
        "\n",
        "\n",
        "---\n",
        "\n",
        "\n",
        "\n",
        "\n",
        "---\n",
        "\n"
      ]
    },
    {
      "cell_type": "code",
      "metadata": {
        "id": "dzQS7rpYaX8O",
        "colab_type": "code",
        "colab": {}
      },
      "source": [
        "new_df = pd.read_excel('jz7b02203_si_002.xlsx')\n"
      ],
      "execution_count": 0,
      "outputs": []
    },
    {
      "cell_type": "code",
      "metadata": {
        "id": "J7m988Ccjwqj",
        "colab_type": "code",
        "colab": {}
      },
      "source": [
        "new_df = new_df[['System', 'LowGap_SOHSE_Approx']]\n"
      ],
      "execution_count": 0,
      "outputs": []
    },
    {
      "cell_type": "code",
      "metadata": {
        "id": "Nc0NDUGtatnt",
        "colab_type": "code",
        "colab": {}
      },
      "source": [
        "new_df = new_df.dropna()\n",
        "\n",
        "\n",
        "\n"
      ],
      "execution_count": 0,
      "outputs": []
    },
    {
      "cell_type": "code",
      "metadata": {
        "id": "9_pl_ZRMjmTa",
        "colab_type": "code",
        "colab": {}
      },
      "source": [
        "new_df = new_df[new_df['LowGap_SOHSE_Approx'] >= 0 ]\n",
        "new_df"
      ],
      "execution_count": 0,
      "outputs": []
    },
    {
      "cell_type": "markdown",
      "metadata": {
        "id": "cAOyKHCan1KY",
        "colab_type": "text"
      },
      "source": [
        "***A-sites***\n",
        "\n",
        "---\n",
        "\n",
        "\n",
        "\n",
        "---\n",
        "\n",
        "\n",
        "\n",
        "---\n",
        "\n",
        "\n",
        "\n",
        "---\n",
        "\n"
      ]
    },
    {
      "cell_type": "code",
      "metadata": {
        "id": "jbR91Gqya_Ct",
        "colab_type": "code",
        "colab": {}
      },
      "source": [
        "a_sites = new_df['System'].str.extract(r'(C4N4H24|C4N8H20|Cs4)')\n",
        "a_sites.replace('C4N4H24', 'MA', inplace = True)\n",
        "a_sites.replace('C4N8H20', 'FA', inplace = True)\n",
        "a_sites.replace('Cs4', 'Cs', inplace = True)\n",
        "\n"
      ],
      "execution_count": 0,
      "outputs": []
    },
    {
      "cell_type": "code",
      "metadata": {
        "id": "EZyPH5UwjDEx",
        "colab_type": "code",
        "colab": {}
      },
      "source": [
        "new_df['A_sites'] = a_sites\n",
        "\n"
      ],
      "execution_count": 0,
      "outputs": []
    },
    {
      "cell_type": "markdown",
      "metadata": {
        "id": "0AdJ2y9Wn6mQ",
        "colab_type": "text"
      },
      "source": [
        "***install pymatgen***\n",
        "\n",
        "---\n",
        "\n",
        "\n",
        "\n",
        "---\n",
        "\n",
        "\n",
        "\n",
        "---\n",
        "\n",
        "\n",
        "\n",
        "---\n",
        "\n",
        "\n",
        "\n",
        "---\n",
        "\n"
      ]
    },
    {
      "cell_type": "code",
      "metadata": {
        "id": "NX0ZGOYdbuBh",
        "colab_type": "code",
        "colab": {}
      },
      "source": [
        "!pip install pymatgen\n"
      ],
      "execution_count": 0,
      "outputs": []
    },
    {
      "cell_type": "code",
      "metadata": {
        "id": "DgrLYqRhi5RZ",
        "colab_type": "code",
        "colab": {}
      },
      "source": [
        "from pymatgen.core.periodic_table import Element\n"
      ],
      "execution_count": 0,
      "outputs": []
    },
    {
      "cell_type": "code",
      "metadata": {
        "id": "a7RZqimXblo3",
        "colab_type": "code",
        "colab": {}
      },
      "source": [
        "\n",
        "# data dict = {'H' : ...,\n",
        "#             'He' : ...}\n",
        "IONIC_R_DICT = {Element.from_Z(i).symbol : Element.from_Z(i).average_ionic_radius\n",
        "                for i in range(1,93)}\n",
        "\n",
        "#Kieslich et al. Chem. Sci., 2014, 5, 4712\n",
        "IONIC_R_DICT['MA'] = 2.17\n",
        "IONIC_R_DICT['FA'] = 2.53\n"
      ],
      "execution_count": 0,
      "outputs": []
    },
    {
      "cell_type": "code",
      "metadata": {
        "id": "DcIWxOUjkH6-",
        "colab_type": "code",
        "colab": {}
      },
      "source": [
        "ionic_radius_a = a_sites.replace(IONIC_R_DICT)\n"
      ],
      "execution_count": 0,
      "outputs": []
    },
    {
      "cell_type": "markdown",
      "metadata": {
        "id": "xWQgxk-ZoDIp",
        "colab_type": "text"
      },
      "source": [
        "***B-sites***\n",
        "\n",
        "---\n",
        "\n",
        "\n",
        "\n",
        "---\n",
        "\n",
        "\n",
        "\n",
        "---\n",
        "\n",
        "\n",
        "\n",
        "---\n",
        "\n",
        "\n",
        "\n",
        "---\n",
        "\n"
      ]
    },
    {
      "cell_type": "code",
      "metadata": {
        "id": "7O8OBsRhk-Ns",
        "colab_type": "code",
        "colab": {}
      },
      "source": [
        "#contains       new_\n",
        "#separate all the rows that contain compounds with B-sides of the form B2B'2\n",
        "true_dbls = new_df[new_df['System'].str.contains(r'[a-zA-Z]+(?=2[a-zA-Z]+2)')]\n",
        "#match a group of alphabetical chars followed by a 2, another group of alphabetical chars, and then another 2\n",
        "b_sites = true_dbls['System'].str.extract(r'([a-zA-Z]+)(?=2[a-zA-z]+2)')\n",
        "#match a group of alphabetical chars followed by a 2, another group of alphabetical chars, and then a 12\n",
        "b_prime_sites = true_dbls['System'].str.extract(r'([a-zA-Z]+)(?=2[a-zA-z]+12)')\n",
        "\n"
      ],
      "execution_count": 0,
      "outputs": []
    },
    {
      "cell_type": "code",
      "metadata": {
        "id": "hgtin7NulaWY",
        "colab_type": "code",
        "colab": {}
      },
      "source": [
        "true_dbls['B_sites'] = b_sites.copy()\n",
        "true_dbls['B_prime_sites'] = b_prime_sites.copy()\n"
      ],
      "execution_count": 0,
      "outputs": []
    },
    {
      "cell_type": "code",
      "metadata": {
        "id": "Al4qcecylh-d",
        "colab_type": "code",
        "colab": {}
      },
      "source": [
        "false_dbls = new_df[~new_df['System'].str.contains(r'[a-zA-Z]+(?=2[a-zA-Z]+2)')]\n",
        "b_sites = false_dbls['System'].str.extract(r'([a-zA-Z])+(?=4[a-zA-Z]+12)')\n",
        "\n",
        "false_dbls['B_sites'] = b_sites.copy()\n",
        "false_dbls['B_prime_sites'] = b_sites.copy()\n"
      ],
      "execution_count": 0,
      "outputs": []
    },
    {
      "cell_type": "code",
      "metadata": {
        "id": "oAFGgg-eltzk",
        "colab_type": "code",
        "colab": {}
      },
      "source": [
        "df = pd.concat([true_dbls, false_dbls])\n"
      ],
      "execution_count": 0,
      "outputs": []
    },
    {
      "cell_type": "markdown",
      "metadata": {
        "id": "gpmVtUTRoJP5",
        "colab_type": "text"
      },
      "source": [
        "\n",
        "***X-sites***\n",
        "\n",
        "\n",
        "---\n",
        "\n",
        "\n",
        "\n",
        "---\n",
        "\n",
        "\n",
        "\n",
        "---\n",
        "\n",
        "\n",
        "\n",
        "---\n",
        "\n",
        "\n",
        "---\n",
        "\n"
      ]
    },
    {
      "cell_type": "code",
      "metadata": {
        "id": "zj1IIfdilyOL",
        "colab_type": "code",
        "colab": {}
      },
      "source": [
        "x_sites = df['System'].str.extract(r'([a-zA-Z]+)(?=12)')\n",
        "new_df['X_sites'] = x_sites\n",
        "new_df\n"
      ],
      "execution_count": 0,
      "outputs": []
    },
    {
      "cell_type": "code",
      "metadata": {
        "id": "s8NwpynJl19j",
        "colab_type": "code",
        "colab": {}
      },
      "source": [
        ""
      ],
      "execution_count": 0,
      "outputs": []
    }
  ]
}