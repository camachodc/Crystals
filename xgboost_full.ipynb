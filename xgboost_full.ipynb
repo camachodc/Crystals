{
 "cells": [
  {
   "cell_type": "code",
   "execution_count": 1,
   "metadata": {},
   "outputs": [],
   "source": [
    "from xgboost import XGBRegressor\n",
    "from sklearn.model_selection import train_test_split, GridSearchCV, RandomizedSearchCV\n",
    "from sklearn.metrics import mean_absolute_error, mean_squared_error\n",
    "\n",
    "import numpy as np\n",
    "import time\n",
    "import pickle\n",
    "from h5py import File\n",
    "import pandas as pd"
   ]
  },
  {
   "cell_type": "code",
   "execution_count": 2,
   "metadata": {},
   "outputs": [],
   "source": [
    "params = {\n",
    "        'min_child_weight': [1, 2, 4, 5, 8, 10, 12, ],\n",
    "        'gamma': list(0.1 * np.arange(25) + 0.1),\n",
    "        'subsample': list(0.01 * np.arange(100) + 0.01),\n",
    "        'colsample_bytree': list(0.01 * np.arange(100) + 0.01),\n",
    "        'max_depth': [3, 4, 5]\n",
    "        }\n",
    "\n",
    "xgb = XGBRegressor(objective='reg:linear', learning_rate=0.1,\n",
    "                   alpha=10, n_estimators=512)"
   ]
  },
  {
   "cell_type": "code",
   "execution_count": 3,
   "metadata": {},
   "outputs": [],
   "source": [
    "random_search = RandomizedSearchCV(xgb,\n",
    "                                   param_distributions=params,\n",
    "                                   n_iter=256,\n",
    "                                   scoring='neg_mean_squared_error',\n",
    "                                   n_jobs=36,\n",
    "                                   cv=3, verbose=3, random_state=42)"
   ]
  },
  {
   "cell_type": "code",
   "execution_count": 4,
   "metadata": {},
   "outputs": [
    {
     "name": "stdout",
     "output_type": "stream",
     "text": [
      "X.shape is (1921, 23436)\n",
      "y.shape is (1921,)\n",
      "... load time is 0.16 seconds\n",
      "Number of training examples: 1632 \t number of features: 23436\n",
      "Number of testing examples:  289 \t number of features: 23436\n",
      "... load time is 0.11 seconds\n"
     ]
    }
   ],
   "source": [
    "t1 = time.time()\n",
    "with File('mixed_values.h5', 'r') as hf:\n",
    "    X = hf['mixed_values'][:]\n",
    "#with open('raw_values.pkl', 'rb') as f:\n",
    "#    X = pickle.load(f)\n",
    "\n",
    "\n",
    "#raw_values = pickl\n",
    "df = pd.read_pickle('for_y.pkl')\n",
    "y = df['LowGap_SOHSE_Approx'].values\n",
    "t2 = time.time()\n",
    "\n",
    "print(f'X.shape is {X.shape}')\n",
    "print(f'y.shape is {y.shape}')\n",
    "print(f'... load time is {t2 - t1:.2f} seconds')\n",
    "\n",
    "t1 = time.time()\n",
    "Xtr, Xte, ytr, yte = train_test_split(X, y, test_size=0.15, random_state=42)\n",
    "t2 = time.time()\n",
    "\n",
    "print(\"Number of training examples: %i \\t number of features: %i\" %\n",
    "      (Xtr.shape[0], Xtr.shape[1]))\n",
    "\n",
    "print(\"Number of testing examples:  %i \\t number of features: %i\" %\n",
    "      (Xte.shape[0], Xtr.shape[1]))\n",
    "print(f'... load time is {t2 - t1:.2f} seconds')"
   ]
  },
  {
   "cell_type": "code",
   "execution_count": 5,
   "metadata": {},
   "outputs": [
    {
     "name": "stdout",
     "output_type": "stream",
     "text": [
      "Fitting 3 folds for each of 256 candidates, totalling 768 fits\n"
     ]
    },
    {
     "name": "stderr",
     "output_type": "stream",
     "text": [
      "[Parallel(n_jobs=36)]: Using backend LokyBackend with 36 concurrent workers.\n",
      "[Parallel(n_jobs=36)]: Done  56 tasks      | elapsed: 11.0min\n",
      "[Parallel(n_jobs=36)]: Done 216 tasks      | elapsed: 39.4min\n",
      "[Parallel(n_jobs=36)]: Done 440 tasks      | elapsed: 69.8min\n",
      "[Parallel(n_jobs=36)]: Done 768 out of 768 | elapsed: 121.7min finished\n"
     ]
    },
    {
     "data": {
      "text/plain": [
       "RandomizedSearchCV(cv=3, error_score='raise-deprecating',\n",
       "          estimator=XGBRegressor(alpha=10, base_score=0.5, booster='gbtree', colsample_bylevel=1,\n",
       "       colsample_bytree=1, gamma=0, importance_type='gain',\n",
       "       learning_rate=0.1, max_delta_step=0, max_depth=3,\n",
       "       min_child_weight=1, missing=None, n_estimators=512, n_jobs=1,\n",
       "       nthread=None, objective='reg:linear', random_state=0, reg_alpha=0,\n",
       "       reg_lambda=1, scale_pos_weight=1, seed=None, silent=True,\n",
       "       subsample=1),\n",
       "          fit_params=None, iid='warn', n_iter=256, n_jobs=36,\n",
       "          param_distributions={'min_child_weight': [1, 2, 4, 5, 8, 10, 12], 'gamma': [0.1, 0.2, 0.30000000000000004, 0.4, 0.5, 0.6, 0.7000000000000001, 0.8, 0.9, 1.0, 1.1, 1.2000000000000002, 1.3000000000000003, 1.4000000000000001, 1.5000000000000002, 1.6, 1.7000000000000002, 1.8000000000000003, 1.90000000000...00000000001, 0.9500000000000001, 0.9600000000000001, 0.97, 0.98, 0.99, 1.0], 'max_depth': [3, 4, 5]},\n",
       "          pre_dispatch='2*n_jobs', random_state=42, refit=True,\n",
       "          return_train_score='warn', scoring='neg_mean_squared_error',\n",
       "          verbose=3)"
      ]
     },
     "execution_count": 5,
     "metadata": {},
     "output_type": "execute_result"
    }
   ],
   "source": [
    "random_search.fit(Xtr, ytr)"
   ]
  },
  {
   "cell_type": "code",
   "execution_count": 6,
   "metadata": {},
   "outputs": [
    {
     "name": "stdout",
     "output_type": "stream",
     "text": [
      "MSE = 0.454, MAE = 0.319\n"
     ]
    }
   ],
   "source": [
    "mse = np.sqrt(mean_squared_error(\n",
    "    yte, random_search.best_estimator_.predict(Xte)\n",
    "))\n",
    "\n",
    "mae = mean_absolute_error(\n",
    "    yte, random_search.best_estimator_.predict(Xte)\n",
    ")\n",
    "\n",
    "print(f'MSE = {mse:.3f}, MAE = {mae:.3f}')"
   ]
  },
  {
   "cell_type": "code",
   "execution_count": 7,
   "metadata": {},
   "outputs": [
    {
     "data": {
      "text/plain": [
       "XGBRegressor(alpha=10, base_score=0.5, booster='gbtree', colsample_bylevel=1,\n",
       "       colsample_bytree=0.59, gamma=0.2, importance_type='gain',\n",
       "       learning_rate=0.1, max_delta_step=0, max_depth=3,\n",
       "       min_child_weight=2, missing=None, n_estimators=512, n_jobs=1,\n",
       "       nthread=None, objective='reg:linear', random_state=0, reg_alpha=0,\n",
       "       reg_lambda=1, scale_pos_weight=1, seed=None, silent=True,\n",
       "       subsample=0.63)"
      ]
     },
     "execution_count": 7,
     "metadata": {},
     "output_type": "execute_result"
    }
   ],
   "source": [
    "random_search.best_estimator_"
   ]
  },
  {
   "cell_type": "code",
   "execution_count": null,
   "metadata": {},
   "outputs": [],
   "source": []
  }
 ],
 "metadata": {
  "kernelspec": {
   "display_name": "Python 3",
   "language": "python",
   "name": "python3"
  },
  "language_info": {
   "codemirror_mode": {
    "name": "ipython",
    "version": 3
   },
   "file_extension": ".py",
   "mimetype": "text/x-python",
   "name": "python",
   "nbconvert_exporter": "python",
   "pygments_lexer": "ipython3",
   "version": "3.7.1"
  }
 },
 "nbformat": 4,
 "nbformat_minor": 2
}
